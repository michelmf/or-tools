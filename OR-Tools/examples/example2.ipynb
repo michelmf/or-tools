{
 "cells": [
  {
   "cell_type": "markdown",
   "metadata": {},
   "source": [
    "## Exemplo 2 - Fábrica de móveis (Questão 3 - Lista de Exercícios 3)\n",
    "\n",
    "Durante as aulas, o seguinte problema foi trazido nas listas de exercícios:\n",
    "\n",
    ">Uma grande fábrica de móveis dispõe em estoque de 250 metros de tábuas, 600 metros de pranchas e 500 metros de painéis de conglomerado. A fábrica normalmente oferece uma linha de móveis composta por um modelo de escrivaninha, uma mesa de reunião, um armáario e uma prateleira. Cada tipo de móvel consome uma certa quantidade de matéria-prima, conforme a Tabela 2. A escrivaninha é vendida por 100 unidades monetárias (u. m.), a mesa por 80 u.m., o armário por 120 u.m. e a prateleira por 20 u.m. Determine um modelo de Programação Linear que maximize a receita com a venda dos móveis.\n",
    ">\n",
    "> O objetivo é maximizar a receita de uma produção cujos quantitativos relativos são passíveis de planejamento.\n",
    "> Variáveis de decisão: $x_i$ - a quantidade em unidades a serem produzidas do produto escrivaninha ($i = 1$), mesa ($i = 2$), armário ($i = 3$), prateleira ($i = 4$).\n",
    "> Função objetivo: z = MAX{$f(x) = 100x_1 + 80x_2 + 120x_3 + 20x_4$} - Receita bruta em unidades monetárias em função do número de unidades produzidas de cada tipo de móvel.\n",
    ">\n",
    "> Restrições do problema:\n",
    ">\n",
    "> * Restrição associada à disponibilidade de tábuas: $x_1 + x_2 + x_3 + 4x_4 \\le 250$ </br>\n",
    "> * Restrição associada à disponibilidade de pranchas: $x_2 + x_3 + 2x_4 \\le 600$ </br>\n",
    "> * Restrição associada à disponibilidade de painéis: $3x_1 + 2x_2 + 4x_3 \\le 500$ </br>\n",
    "> * Restrições de não negatividade: $x_1 \\ge 0$, $x_2 \\ge 0$, $x_3 \\ge 0$, $x_4 \\ge 0$ </br>"
   ]
  },
  {
   "cell_type": "markdown",
   "metadata": {},
   "source": [
    "Logo, temos um problema formatado para a aplicação do GLOP como no exemplo anterior, como:"
   ]
  },
  {
   "cell_type": "markdown",
   "metadata": {},
   "source": [
    "\n",
    ">$\\text{maximize } 100x_1 + 80x_2 + 120x_3 + 20x_4$\n",
    ">\n",
    ">Sujeito às restrições:\n",
    ">\n",
    ">$x_1 + x_2 + x_3 + 4x_4 \\le 250$ (Eq. 1)\n",
    ">\n",
    ">$x_2 + x_3 + 2x_4 \\le 600$ (Eq. 2)\n",
    ">\n",
    ">$3x_1 + 2x_2 + 4x_3 \\le 500$ (Eq. 3)\n",
    ">\n",
    ">$x_1 \\ge 0$, $x_2 \\ge 0$, $x_3 \\ge 0$, $x_4 \\ge 0$"
   ]
  },
  {
   "cell_type": "code",
   "execution_count": 2,
   "metadata": {},
   "outputs": [],
   "source": [
    "# Módulos para manipulação numérica, gráficos e solver\n",
    "import numpy as np\n",
    "import matplotlib.pyplot as plt\n",
    "\n",
    "from ortools.linear_solver import pywraplp"
   ]
  },
  {
   "cell_type": "code",
   "execution_count": 4,
   "metadata": {},
   "outputs": [
    {
     "name": "stdout",
     "output_type": "stream",
     "text": [
      "Número de restrições do problema: 3\n"
     ]
    }
   ],
   "source": [
    "# Solver de LP baseado no glop\n",
    "solver = pywraplp.Solver.CreateSolver('GLOP')\n",
    "\n",
    "# Variáveis do problema\n",
    "x1 = solver.NumVar(0, solver.infinity(), 'x1')\n",
    "x2 = solver.NumVar(0, solver.infinity(), 'x2')\n",
    "x3 = solver.NumVar(0, solver.infinity(), 'x3')\n",
    "x4 = solver.NumVar(0, solver.infinity(), 'x4')\n",
    "\n",
    "# Definição da função objetivo\n",
    "solver.Maximize(100*x1 + 80*x2 + 120*x3 + 20*x4)\n",
    "\n",
    "# Definição das restrições do problema (Constraints)\n",
    "solver.Add(x1 + x2 + x3 + 4*x4 <= 250)  # restrição 1\n",
    "solver.Add(x2 + x3 + 2*x4      <= 600)  # restrição 2\n",
    "solver.Add(3*x1 + 2*x2 + 4*x3  <= 15.0) # restrição 3\n",
    "\n",
    "# Verificando a quantidade de restrições\n",
    "print(f'Número de restrições do problema: {solver.NumConstraints()}')\n",
    "\n",
    "# Executando o solver\n",
    "status = solver.Solve()"
   ]
  },
  {
   "cell_type": "code",
   "execution_count": 9,
   "metadata": {},
   "outputs": [
    {
     "name": "stdout",
     "output_type": "stream",
     "text": [
      "Solução:\n",
      "Valor máximo =  1812.5000000000002\n",
      "Valor de x1 = 0.0\n",
      "Valor de x2 = 7.5\n",
      "Valor de x3 = 0.0\n",
      "Valor de x4 = 60.62500000000001\n"
     ]
    }
   ],
   "source": [
    "# Verifica se o solver já encontrou a solução do problema\n",
    "if status == pywraplp.Solver.OPTIMAL:\n",
    "    print('Solução:')\n",
    "    print('Valor máximo = ', solver.Objective().Value())\n",
    "    print('Valor de x1 =', x1.solution_value())\n",
    "    print('Valor de x2 =', x2.solution_value())\n",
    "    print('Valor de x3 =', x3.solution_value())\n",
    "    print('Valor de x4 =', x4.solution_value())\n",
    "\n",
    "else:\n",
    "    print('O problema não possui solução ótima')"
   ]
  }
 ],
 "metadata": {
  "interpreter": {
   "hash": "79afb483a63c64812f987c1b64d50d69b5773d717d851279609611ca4c9160b2"
  },
  "kernelspec": {
   "display_name": "Python 3.8.3 ('deep_learning')",
   "language": "python",
   "name": "python3"
  },
  "language_info": {
   "codemirror_mode": {
    "name": "ipython",
    "version": 3
   },
   "file_extension": ".py",
   "mimetype": "text/x-python",
   "name": "python",
   "nbconvert_exporter": "python",
   "pygments_lexer": "ipython3",
   "version": "3.8.3"
  },
  "orig_nbformat": 4
 },
 "nbformat": 4,
 "nbformat_minor": 2
}
